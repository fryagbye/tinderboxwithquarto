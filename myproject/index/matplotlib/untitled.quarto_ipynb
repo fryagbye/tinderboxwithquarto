{
  "cells": [
    {
      "cell_type": "markdown",
      "metadata": {},
      "source": [
        "<html>\n",
        "    <head>\n",
        "        <meta charset=\"utf-8\">\n",
        "        <title>matplotlib</title>\n",
        "        <style>\n",
        "            \n",
        "body{\n",
        "    font-family: \"Helvetica Ssm \n",
        "　　 Book\",HelveticaNeue,Helvetica,Arial,sans-serif;\n",
        "    margin-left: 7.5%;\n",
        "    margin-right: 7.5%;\n",
        "    line-height: 1.4;\n",
        "    }\n",
        "    \n",
        "table {\n",
        "    margin: 2em 0;\n",
        "    font-size: 0.9em;\n",
        "    border: 1px solid #888888;\n",
        "}\n",
        "\n",
        "td{\n",
        "    padding: 0.5em;\n",
        "    }\n",
        "\n",
        "img{\n",
        "    width: 100%;\n",
        "}\n",
        "    \n",
        "\n",
        "        </style>\n",
        "    </head>\n",
        "    <body>"
      ],
      "id": "572ae480"
    },
    {
      "cell_type": "markdown",
      "metadata": {},
      "source": [
        "#| label: fig-matplotlib\n",
        "import matplotlib.pyplot as plt\n",
        "fig = plt.figure()\n",
        "x = np.arange(10)\n",
        "y = 2.5 * np.sin(x / 20 * np.pi)\n",
        "yerr = np.linspace(0.05, 0.2, 10)\n",
        "\n",
        "plt.errorbar(x, y + 3, yerr=yerr, label='both limits (default)')\n",
        "plt.errorbar(x, y + 2, yerr=yerr, uplims=True, label='uplims=True')\n",
        "plt.errorbar(x, y + 1, yerr=yerr, uplims=True, lolims=True,\n",
        "             label='uplims=True, lolims=True')\n",
        "\n",
        "upperlimits = [True, False] * 5\n",
        "lowerlimits = [False, True] * 5\n",
        "plt.errorbar(x, y, yerr=yerr, uplims=upperlimits, lolims=lowerlimits,\n",
        "             label='subsets of uplims and lolims')\n",
        "\n",
        "plt.legend(loc='lower right')\n",
        "plt.show(fig)\n",
        "```\n",
        "\n",
        "    </body>\n",
        "</html>"
      ],
      "id": "0fe4dd3f"
    }
  ],
  "metadata": {
    "kernelspec": {
      "display_name": "Python 3",
      "language": "python",
      "name": "python3"
    }
  },
  "nbformat": 4,
  "nbformat_minor": 5
}