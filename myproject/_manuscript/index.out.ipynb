{
 "cells": [
  {
   "cell_type": "markdown",
   "metadata": {},
   "source": [
    "# Quarto Computations\n",
    "\n",
    "Yamada Ichiro SAMPLE [![](data:image/png;base64,iVBORw0KGgoAAAANSUhEUgAAABAAAAAQCAYAAAAf8/9hAAAAGXRFWHRTb2Z0d2FyZQBBZG9iZSBJbWFnZVJlYWR5ccllPAAAA2ZpVFh0WE1MOmNvbS5hZG9iZS54bXAAAAAAADw/eHBhY2tldCBiZWdpbj0i77u/IiBpZD0iVzVNME1wQ2VoaUh6cmVTek5UY3prYzlkIj8+IDx4OnhtcG1ldGEgeG1sbnM6eD0iYWRvYmU6bnM6bWV0YS8iIHg6eG1wdGs9IkFkb2JlIFhNUCBDb3JlIDUuMC1jMDYwIDYxLjEzNDc3NywgMjAxMC8wMi8xMi0xNzozMjowMCAgICAgICAgIj4gPHJkZjpSREYgeG1sbnM6cmRmPSJodHRwOi8vd3d3LnczLm9yZy8xOTk5LzAyLzIyLXJkZi1zeW50YXgtbnMjIj4gPHJkZjpEZXNjcmlwdGlvbiByZGY6YWJvdXQ9IiIgeG1sbnM6eG1wTU09Imh0dHA6Ly9ucy5hZG9iZS5jb20veGFwLzEuMC9tbS8iIHhtbG5zOnN0UmVmPSJodHRwOi8vbnMuYWRvYmUuY29tL3hhcC8xLjAvc1R5cGUvUmVzb3VyY2VSZWYjIiB4bWxuczp4bXA9Imh0dHA6Ly9ucy5hZG9iZS5jb20veGFwLzEuMC8iIHhtcE1NOk9yaWdpbmFsRG9jdW1lbnRJRD0ieG1wLmRpZDo1N0NEMjA4MDI1MjA2ODExOTk0QzkzNTEzRjZEQTg1NyIgeG1wTU06RG9jdW1lbnRJRD0ieG1wLmRpZDozM0NDOEJGNEZGNTcxMUUxODdBOEVCODg2RjdCQ0QwOSIgeG1wTU06SW5zdGFuY2VJRD0ieG1wLmlpZDozM0NDOEJGM0ZGNTcxMUUxODdBOEVCODg2RjdCQ0QwOSIgeG1wOkNyZWF0b3JUb29sPSJBZG9iZSBQaG90b3Nob3AgQ1M1IE1hY2ludG9zaCI+IDx4bXBNTTpEZXJpdmVkRnJvbSBzdFJlZjppbnN0YW5jZUlEPSJ4bXAuaWlkOkZDN0YxMTc0MDcyMDY4MTE5NUZFRDc5MUM2MUUwNEREIiBzdFJlZjpkb2N1bWVudElEPSJ4bXAuZGlkOjU3Q0QyMDgwMjUyMDY4MTE5OTRDOTM1MTNGNkRBODU3Ii8+IDwvcmRmOkRlc2NyaXB0aW9uPiA8L3JkZjpSREY+IDwveDp4bXBtZXRhPiA8P3hwYWNrZXQgZW5kPSJyIj8+84NovQAAAR1JREFUeNpiZEADy85ZJgCpeCB2QJM6AMQLo4yOL0AWZETSqACk1gOxAQN+cAGIA4EGPQBxmJA0nwdpjjQ8xqArmczw5tMHXAaALDgP1QMxAGqzAAPxQACqh4ER6uf5MBlkm0X4EGayMfMw/Pr7Bd2gRBZogMFBrv01hisv5jLsv9nLAPIOMnjy8RDDyYctyAbFM2EJbRQw+aAWw/LzVgx7b+cwCHKqMhjJFCBLOzAR6+lXX84xnHjYyqAo5IUizkRCwIENQQckGSDGY4TVgAPEaraQr2a4/24bSuoExcJCfAEJihXkWDj3ZAKy9EJGaEo8T0QSxkjSwORsCAuDQCD+QILmD1A9kECEZgxDaEZhICIzGcIyEyOl2RkgwAAhkmC+eAm0TAAAAABJRU5ErkJggg==)](https://orcid.org/xxxx-0001-1234-5678) ([Example Company](https://www.google.com), TEST University)  \n",
    "Sato Tadashi SAMPLE [![](data:image/png;base64,iVBORw0KGgoAAAANSUhEUgAAABAAAAAQCAYAAAAf8/9hAAAAGXRFWHRTb2Z0d2FyZQBBZG9iZSBJbWFnZVJlYWR5ccllPAAAA2ZpVFh0WE1MOmNvbS5hZG9iZS54bXAAAAAAADw/eHBhY2tldCBiZWdpbj0i77u/IiBpZD0iVzVNME1wQ2VoaUh6cmVTek5UY3prYzlkIj8+IDx4OnhtcG1ldGEgeG1sbnM6eD0iYWRvYmU6bnM6bWV0YS8iIHg6eG1wdGs9IkFkb2JlIFhNUCBDb3JlIDUuMC1jMDYwIDYxLjEzNDc3NywgMjAxMC8wMi8xMi0xNzozMjowMCAgICAgICAgIj4gPHJkZjpSREYgeG1sbnM6cmRmPSJodHRwOi8vd3d3LnczLm9yZy8xOTk5LzAyLzIyLXJkZi1zeW50YXgtbnMjIj4gPHJkZjpEZXNjcmlwdGlvbiByZGY6YWJvdXQ9IiIgeG1sbnM6eG1wTU09Imh0dHA6Ly9ucy5hZG9iZS5jb20veGFwLzEuMC9tbS8iIHhtbG5zOnN0UmVmPSJodHRwOi8vbnMuYWRvYmUuY29tL3hhcC8xLjAvc1R5cGUvUmVzb3VyY2VSZWYjIiB4bWxuczp4bXA9Imh0dHA6Ly9ucy5hZG9iZS5jb20veGFwLzEuMC8iIHhtcE1NOk9yaWdpbmFsRG9jdW1lbnRJRD0ieG1wLmRpZDo1N0NEMjA4MDI1MjA2ODExOTk0QzkzNTEzRjZEQTg1NyIgeG1wTU06RG9jdW1lbnRJRD0ieG1wLmRpZDozM0NDOEJGNEZGNTcxMUUxODdBOEVCODg2RjdCQ0QwOSIgeG1wTU06SW5zdGFuY2VJRD0ieG1wLmlpZDozM0NDOEJGM0ZGNTcxMUUxODdBOEVCODg2RjdCQ0QwOSIgeG1wOkNyZWF0b3JUb29sPSJBZG9iZSBQaG90b3Nob3AgQ1M1IE1hY2ludG9zaCI+IDx4bXBNTTpEZXJpdmVkRnJvbSBzdFJlZjppbnN0YW5jZUlEPSJ4bXAuaWlkOkZDN0YxMTc0MDcyMDY4MTE5NUZFRDc5MUM2MUUwNEREIiBzdFJlZjpkb2N1bWVudElEPSJ4bXAuZGlkOjU3Q0QyMDgwMjUyMDY4MTE5OTRDOTM1MTNGNkRBODU3Ii8+IDwvcmRmOkRlc2NyaXB0aW9uPiA8L3JkZjpSREY+IDwveDp4bXBtZXRhPiA8P3hwYWNrZXQgZW5kPSJyIj8+84NovQAAAR1JREFUeNpiZEADy85ZJgCpeCB2QJM6AMQLo4yOL0AWZETSqACk1gOxAQN+cAGIA4EGPQBxmJA0nwdpjjQ8xqArmczw5tMHXAaALDgP1QMxAGqzAAPxQACqh4ER6uf5MBlkm0X4EGayMfMw/Pr7Bd2gRBZogMFBrv01hisv5jLsv9nLAPIOMnjy8RDDyYctyAbFM2EJbRQw+aAWw/LzVgx7b+cwCHKqMhjJFCBLOzAR6+lXX84xnHjYyqAo5IUizkRCwIENQQckGSDGY4TVgAPEaraQr2a4/24bSuoExcJCfAEJihXkWDj3ZAKy9EJGaEo8T0QSxkjSwORsCAuDQCD+QILmD1A9kECEZgxDaEZhICIzGcIyEyOl2RkgwAAhkmC+eAm0TAAAAABJRU5ErkJggg==)](https://orcid.org/xxxx-0002-1234-5678) ([Example Company](https://www.google.com))  \n",
    "June 29, 2024\n",
    "\n",
    "This is a demo of quarto manuscript\n",
    "\n",
    "## NumPy"
   ],
   "id": "3a24a40d-050c-49bf-a6ef-d580e4b2f094"
  },
  {
   "cell_type": "code",
   "execution_count": null,
   "metadata": {},
   "outputs": [
    {
     "output_type": "stream",
     "name": "stdout",
     "text": [
      "array([[ 0,  1,  2,  3,  4],\n",
      "       [ 5,  6,  7,  8,  9],\n",
      "       [10, 11, 12, 13, 14]])"
     ]
    }
   ],
   "source": [
    "import numpy as np\n",
    "a = np.arange(15).reshape(3, 5)\n",
    "a"
   ],
   "id": "cell-fig-numpy"
  },
  {
   "cell_type": "markdown",
   "metadata": {},
   "source": [
    "Reference test Wickham and Grolemund ([2016](#ref-Wickham2016Data))\n",
    "\n",
    "## Matplotlib"
   ],
   "id": "4c0e0b4e-b39e-4ca8-b298-793fe6af329f"
  },
  {
   "cell_type": "code",
   "execution_count": null,
   "metadata": {},
   "outputs": [
    {
     "output_type": "display_data",
     "metadata": {},
     "data": {}
    }
   ],
   "source": [
    "import matplotlib.pyplot as plt\n",
    "fig = plt.figure()\n",
    "x = np.arange(10)\n",
    "y = 2.5 * np.sin(x / 20 * np.pi)\n",
    "yerr = np.linspace(0.05, 0.2, 10)\n",
    "\n",
    "plt.errorbar(x, y + 3, yerr=yerr, label='both limits (default)')\n",
    "plt.errorbar(x, y + 2, yerr=yerr, uplims=True, label='uplims=True')\n",
    "plt.errorbar(x, y + 1, yerr=yerr, uplims=True, lolims=True,\n",
    "             label='uplims=True, lolims=True')\n",
    "\n",
    "upperlimits = [True, False] * 5\n",
    "lowerlimits = [False, True] * 5\n",
    "plt.errorbar(x, y, yerr=yerr, uplims=upperlimits, lolims=lowerlimits,\n",
    "             label='subsets of uplims and lolims')\n",
    "\n",
    "plt.legend(loc='lower right')\n",
    "plt.show(fig)"
   ],
   "id": "cell-fig-matplotlib"
  },
  {
   "cell_type": "markdown",
   "metadata": {},
   "source": [
    "## Plotly"
   ],
   "id": "64b79dad-6eb2-4dc1-abf3-d84fbe46c3db"
  },
  {
   "cell_type": "code",
   "execution_count": null,
   "metadata": {},
   "outputs": [],
   "source": [
    "import plotly.express as px\n",
    "from IPython.display import Image\n",
    "import plotly.io as pio\n",
    "gapminder = px.data.gapminder()\n",
    "gapminder2007 = gapminder.query(\"year == 2007\")\n",
    "fig = px.scatter(gapminder2007, \n",
    "                 x=\"gdpPercap\", y=\"lifeExp\", color=\"continent\", \n",
    "                 size=\"pop\", size_max=60,\n",
    "                 hover_name=\"country\")\n",
    "fig.show()"
   ],
   "id": "cell-fig-plotly"
  },
  {
   "cell_type": "markdown",
   "metadata": {},
   "source": [
    "## R"
   ],
   "id": "4b97a8e8-93b8-4332-a021-e3480f26b9eb"
  },
  {
   "cell_type": "code",
   "execution_count": null,
   "metadata": {},
   "outputs": [
    {
     "output_type": "stream",
     "name": "stderr",
     "text": [
      "`geom_smooth()` using formula = 'y ~ x'"
     ]
    },
    {
     "output_type": "stream",
     "name": "stderr",
     "text": [
      "Warning: Removed 37 rows containing non-finite outside the scale range\n",
      "(`stat_smooth()`)."
     ]
    },
    {
     "output_type": "stream",
     "name": "stderr",
     "text": [
      "Warning: Removed 37 rows containing missing values or values outside the scale range\n",
      "(`geom_point()`)."
     ]
    },
    {
     "output_type": "display_data",
     "metadata": {},
     "data": {}
    }
   ],
   "source": [
    "library(ggplot2)\n",
    "ggplot(airquality, aes(Temp, Ozone)) + \n",
    "  geom_point() + \n",
    "  geom_smooth(method = \"loess\")"
   ],
   "id": "cell-fig-airquality"
  },
  {
   "cell_type": "code",
   "execution_count": null,
   "metadata": {
    "fig-width": 5,
    "layout-align": "default"
   },
   "outputs": [
    {
     "output_type": "display_data",
     "metadata": {},
     "data": {
      "text/html": [
       "<svg width=\"480\" height=\"480\" viewbox=\"0.00 0.00 224.00 409.01\" xmlns=\"http://www.w3.org/2000/svg\" xlink=\"http://www.w3.org/1999/xlink\" style=\"; max-width: none; max-height: none\">\n",
       "<g id=\"graph0\" class=\"graph\" transform=\"scale(1 1) rotate(0) translate(4 405.01)\">\n",
       "<polygon fill=\"white\" stroke=\"transparent\" points=\"-4,4 -4,-405.01 220,-405.01 220,4 -4,4\"></polygon>\n",
       "<g id=\"clust1\" class=\"cluster\">\n",
       "<title>cluster_A</title>\n",
       "<polygon fill=\"#a19f9e\" stroke=\"#a19f9e\" points=\"8,-64.21 8,-357.01 98,-357.01 98,-64.21 8,-64.21\"></polygon>\n",
       "<text text-anchor=\"middle\" x=\"53\" y=\"-340.41\" font-family=\"Times,serif\" font-size=\"14.00\" fill=\"#000000\">process #1</text>\n",
       "</g>\n",
       "<g id=\"clust2\" class=\"cluster\">\n",
       "<title>cluster_B</title>\n",
       "<polygon fill=\"#ffffff\" stroke=\"#003366\" points=\"133,-64.21 133,-357.01 208,-357.01 208,-64.21 133,-64.21\"></polygon>\n",
       "<text text-anchor=\"middle\" x=\"170.5\" y=\"-340.41\" font-family=\"Times,serif\" font-size=\"14.00\" fill=\"#000000\">process #2</text>\n",
       "</g>\n",
       "<!-- B -->\n",
       "<g id=\"node1\" class=\"node\">\n",
       "<title>B</title>\n",
       "<ellipse fill=\"#ffffff\" stroke=\"#000000\" cx=\"63\" cy=\"-306.21\" rx=\"27\" ry=\"18\"></ellipse>\n",
       "<text text-anchor=\"middle\" x=\"63\" y=\"-302.01\" font-family=\"Times,serif\" font-size=\"14.00\" fill=\"#000000\">a0</text>\n",
       "</g>\n",
       "<!-- C -->\n",
       "<g id=\"node2\" class=\"node\">\n",
       "<title>C</title>\n",
       "<ellipse fill=\"#ffffff\" stroke=\"#000000\" cx=\"63\" cy=\"-234.21\" rx=\"27\" ry=\"18\"></ellipse>\n",
       "<text text-anchor=\"middle\" x=\"63\" y=\"-230.01\" font-family=\"Times,serif\" font-size=\"14.00\" fill=\"#000000\">a1</text>\n",
       "</g>\n",
       "<!-- B&#45;&gt;C -->\n",
       "<g id=\"edge3\" class=\"edge\">\n",
       "<title>B-&gt;C</title>\n",
       "<path fill=\"none\" stroke=\"black\" d=\"M63,-287.91C63,-280.2 63,-270.93 63,-262.33\"></path>\n",
       "<polygon fill=\"#ffffff\" stroke=\"black\" points=\"66.5,-262.32 63,-252.32 59.5,-262.32 66.5,-262.32\"></polygon>\n",
       "</g>\n",
       "<!-- D -->\n",
       "<g id=\"node3\" class=\"node\">\n",
       "<title>D</title>\n",
       "<ellipse fill=\"#ffffff\" stroke=\"#000000\" cx=\"63\" cy=\"-162.21\" rx=\"27\" ry=\"18\"></ellipse>\n",
       "<text text-anchor=\"middle\" x=\"63\" y=\"-158.01\" font-family=\"Times,serif\" font-size=\"14.00\" fill=\"#000000\">a2</text>\n",
       "</g>\n",
       "<!-- C&#45;&gt;D -->\n",
       "<g id=\"edge4\" class=\"edge\">\n",
       "<title>C-&gt;D</title>\n",
       "<path fill=\"none\" stroke=\"black\" d=\"M63,-215.91C63,-208.2 63,-198.93 63,-190.33\"></path>\n",
       "<polygon fill=\"#ffffff\" stroke=\"black\" points=\"66.5,-190.32 63,-180.32 59.5,-190.32 66.5,-190.32\"></polygon>\n",
       "</g>\n",
       "<!-- I -->\n",
       "<g id=\"node8\" class=\"node\">\n",
       "<title>I</title>\n",
       "<ellipse fill=\"lightgrey\" stroke=\"black\" cx=\"168\" cy=\"-90.21\" rx=\"27\" ry=\"18\"></ellipse>\n",
       "<text text-anchor=\"middle\" x=\"168\" y=\"-86.01\" font-family=\"Times,serif\" font-size=\"14.00\">b3</text>\n",
       "</g>\n",
       "<!-- C&#45;&gt;I -->\n",
       "<g id=\"edge5\" class=\"edge\">\n",
       "<title>C-&gt;I</title>\n",
       "<path fill=\"none\" stroke=\"black\" d=\"M74.44,-217.75C92.74,-192.99 128.75,-144.29 150.37,-115.06\"></path>\n",
       "<polygon fill=\"#ffffff\" stroke=\"black\" points=\"153.45,-116.78 156.58,-106.66 147.82,-112.62 153.45,-116.78\"></polygon>\n",
       "</g>\n",
       "<!-- E -->\n",
       "<g id=\"node4\" class=\"node\">\n",
       "<title>E</title>\n",
       "<ellipse fill=\"#ffffff\" stroke=\"#000000\" cx=\"63\" cy=\"-90.21\" rx=\"27\" ry=\"18\"></ellipse>\n",
       "<text text-anchor=\"middle\" x=\"63\" y=\"-86.01\" font-family=\"Times,serif\" font-size=\"14.00\" fill=\"#000000\">a3</text>\n",
       "</g>\n",
       "<!-- D&#45;&gt;E -->\n",
       "<g id=\"edge6\" class=\"edge\">\n",
       "<title>D-&gt;E</title>\n",
       "<path fill=\"none\" stroke=\"black\" d=\"M63,-143.91C63,-136.2 63,-126.93 63,-118.33\"></path>\n",
       "<polygon fill=\"#ffffff\" stroke=\"black\" points=\"66.5,-118.32 63,-108.32 59.5,-118.32 66.5,-118.32\"></polygon>\n",
       "</g>\n",
       "<!-- E&#45;&gt;B -->\n",
       "<g id=\"edge7\" class=\"edge\">\n",
       "<title>E-&gt;B</title>\n",
       "<path fill=\"none\" stroke=\"black\" d=\"M49.25,-106.15C41.04,-116.11 31.38,-129.97 27,-144.21 12.89,-190.09 12.89,-206.33 27,-252.21 30.29,-262.9 36.54,-273.36 42.93,-282.13\"></path>\n",
       "<polygon fill=\"#ffffff\" stroke=\"black\" points=\"40.35,-284.53 49.25,-290.28 45.88,-280.24 40.35,-284.53\"></polygon>\n",
       "</g>\n",
       "<!-- J -->\n",
       "<g id=\"node10\" class=\"node\">\n",
       "<title>J</title>\n",
       "<polygon fill=\"#ffffff\" stroke=\"#000000\" points=\"133.21,-36.32 96.79,-36.32 96.79,0.11 133.21,0.11 133.21,-36.32\"></polygon>\n",
       "<polyline fill=\"none\" stroke=\"#000000\" points=\"108.79,-36.32 96.79,-24.32 \"></polyline>\n",
       "<polyline fill=\"none\" stroke=\"#000000\" points=\"96.79,-11.89 108.79,0.11 \"></polyline>\n",
       "<polyline fill=\"none\" stroke=\"#000000\" points=\"121.21,0.11 133.21,-11.89 \"></polyline>\n",
       "<polyline fill=\"none\" stroke=\"#000000\" points=\"133.21,-24.32 121.21,-36.32 \"></polyline>\n",
       "<text text-anchor=\"middle\" x=\"115\" y=\"-13.91\" font-family=\"Times,serif\" font-size=\"14.00\" fill=\"#000000\">end</text>\n",
       "</g>\n",
       "<!-- E&#45;&gt;J -->\n",
       "<g id=\"edge8\" class=\"edge\">\n",
       "<title>E-&gt;J</title>\n",
       "<path fill=\"none\" stroke=\"black\" d=\"M74.54,-73.65C80.84,-65.17 88.79,-54.45 95.97,-44.76\"></path>\n",
       "<polygon fill=\"#ffffff\" stroke=\"black\" points=\"98.88,-46.71 102.03,-36.59 93.26,-42.54 98.88,-46.71\"></polygon>\n",
       "</g>\n",
       "<!-- F -->\n",
       "<g id=\"node5\" class=\"node\">\n",
       "<title>F</title>\n",
       "<ellipse fill=\"lightgrey\" stroke=\"black\" cx=\"168\" cy=\"-306.21\" rx=\"27\" ry=\"18\"></ellipse>\n",
       "<text text-anchor=\"middle\" x=\"168\" y=\"-302.01\" font-family=\"Times,serif\" font-size=\"14.00\">b0</text>\n",
       "</g>\n",
       "<!-- G -->\n",
       "<g id=\"node6\" class=\"node\">\n",
       "<title>G</title>\n",
       "<ellipse fill=\"lightgrey\" stroke=\"black\" cx=\"170\" cy=\"-234.21\" rx=\"27\" ry=\"18\"></ellipse>\n",
       "<text text-anchor=\"middle\" x=\"170\" y=\"-230.01\" font-family=\"Times,serif\" font-size=\"14.00\">b1</text>\n",
       "</g>\n",
       "<!-- F&#45;&gt;G -->\n",
       "<g id=\"edge9\" class=\"edge\">\n",
       "<title>F-&gt;G</title>\n",
       "<path fill=\"none\" stroke=\"black\" d=\"M168.49,-287.91C168.71,-280.2 168.98,-270.93 169.23,-262.33\"></path>\n",
       "<polygon fill=\"#ffffff\" stroke=\"black\" points=\"172.72,-262.41 169.51,-252.32 165.73,-262.21 172.72,-262.41\"></polygon>\n",
       "</g>\n",
       "<!-- H -->\n",
       "<g id=\"node7\" class=\"node\">\n",
       "<title>H</title>\n",
       "<ellipse fill=\"lightgrey\" stroke=\"black\" cx=\"173\" cy=\"-162.21\" rx=\"27\" ry=\"18\"></ellipse>\n",
       "<text text-anchor=\"middle\" x=\"173\" y=\"-158.01\" font-family=\"Times,serif\" font-size=\"14.00\">b2</text>\n",
       "</g>\n",
       "<!-- G&#45;&gt;H -->\n",
       "<g id=\"edge10\" class=\"edge\">\n",
       "<title>G-&gt;H</title>\n",
       "<path fill=\"none\" stroke=\"black\" d=\"M170.74,-215.91C171.07,-208.2 171.47,-198.93 171.84,-190.33\"></path>\n",
       "<polygon fill=\"#ffffff\" stroke=\"black\" points=\"175.34,-190.46 172.27,-180.32 168.34,-190.16 175.34,-190.46\"></polygon>\n",
       "</g>\n",
       "<!-- H&#45;&gt;E -->\n",
       "<g id=\"edge11\" class=\"edge\">\n",
       "<title>H-&gt;E</title>\n",
       "<path fill=\"none\" stroke=\"black\" d=\"M153.84,-149.02C136.33,-137.88 110.24,-121.28 90.51,-108.72\"></path>\n",
       "<polygon fill=\"#ffffff\" stroke=\"black\" points=\"92.26,-105.68 81.94,-103.27 88.5,-111.59 92.26,-105.68\"></polygon>\n",
       "</g>\n",
       "<!-- H&#45;&gt;I -->\n",
       "<g id=\"edge12\" class=\"edge\">\n",
       "<title>H-&gt;I</title>\n",
       "<path fill=\"none\" stroke=\"black\" d=\"M171.76,-143.91C171.21,-136.2 170.55,-126.93 169.94,-118.33\"></path>\n",
       "<polygon fill=\"#ffffff\" stroke=\"black\" points=\"173.43,-118.04 169.22,-108.32 166.44,-118.54 173.43,-118.04\"></polygon>\n",
       "</g>\n",
       "<!-- I&#45;&gt;J -->\n",
       "<g id=\"edge13\" class=\"edge\">\n",
       "<title>I-&gt;J</title>\n",
       "<path fill=\"none\" stroke=\"black\" d=\"M156.24,-73.65C149.82,-65.17 141.72,-54.45 134.39,-44.76\"></path>\n",
       "<polygon fill=\"#ffffff\" stroke=\"black\" points=\"137.04,-42.46 128.22,-36.59 131.46,-46.68 137.04,-42.46\"></polygon>\n",
       "</g>\n",
       "<!-- A -->\n",
       "<g id=\"node9\" class=\"node\">\n",
       "<title>A</title>\n",
       "<polygon fill=\"#ffffff\" stroke=\"#000000\" points=\"115,-401.01 75.76,-383.01 115,-365.01 154.24,-383.01 115,-401.01\"></polygon>\n",
       "<polyline fill=\"none\" stroke=\"#000000\" points=\"86.67,-388.02 86.67,-378.01 \"></polyline>\n",
       "<polyline fill=\"none\" stroke=\"#000000\" points=\"104.09,-370.02 125.91,-370.02 \"></polyline>\n",
       "<polyline fill=\"none\" stroke=\"#000000\" points=\"143.33,-378.01 143.33,-388.02 \"></polyline>\n",
       "<polyline fill=\"none\" stroke=\"#000000\" points=\"125.91,-396.01 104.09,-396.01 \"></polyline>\n",
       "<text text-anchor=\"middle\" x=\"115\" y=\"-378.81\" font-family=\"Times,serif\" font-size=\"14.00\" fill=\"#000000\">start</text>\n",
       "</g>\n",
       "<!-- A&#45;&gt;B -->\n",
       "<g id=\"edge1\" class=\"edge\">\n",
       "<title>A-&gt;B</title>\n",
       "<path fill=\"none\" stroke=\"black\" d=\"M105.94,-368.98C98.71,-358.58 88.37,-343.71 79.66,-331.17\"></path>\n",
       "<polygon fill=\"#ffffff\" stroke=\"black\" points=\"82.52,-329.16 73.94,-322.95 76.77,-333.15 82.52,-329.16\"></polygon>\n",
       "</g>\n",
       "<!-- A&#45;&gt;F -->\n",
       "<g id=\"edge2\" class=\"edge\">\n",
       "<title>A-&gt;F</title>\n",
       "<path fill=\"none\" stroke=\"black\" d=\"M124.23,-368.98C131.65,-358.51 142.28,-343.52 151.2,-330.93\"></path>\n",
       "<polygon fill=\"#ffffff\" stroke=\"black\" points=\"154.12,-332.86 157.04,-322.68 148.41,-328.81 154.12,-332.86\"></polygon>\n",
       "</g>\n",
       "</g>\n",
       "</svg>"
      ]
     }
    }
   ],
   "source": [],
   "id": "af016fff-4dd7-48d1-837b-9c67cd747fe8"
  },
  {
   "cell_type": "markdown",
   "metadata": {},
   "source": [
    "## References\n",
    "\n",
    "Wickham, Hadley, and Garrett Grolemund. 2016. *R for Data Science: Import, Tidy, Transform, Visualize, and Model Data*. “O’Reilly Media, Inc.”"
   ],
   "id": "74c00502-5b41-4bc1-b215-03b4930e369f"
  }
 ],
 "nbformat": 4,
 "nbformat_minor": 5,
 "metadata": {}
}
